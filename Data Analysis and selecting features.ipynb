{
 "cells": [
  {
   "cell_type": "markdown",
   "metadata": {},
   "source": [
    "# Data Analysis "
   ]
  },
  {
   "cell_type": "code",
   "execution_count": 1,
   "metadata": {},
   "outputs": [],
   "source": [
    "import pandas as pd\n",
    "import matplotlib.pyplot as plt\n"
   ]
  },
  {
   "cell_type": "code",
   "execution_count": 2,
   "metadata": {},
   "outputs": [],
   "source": [
    "df=pd.read_csv(\"Eluvio_DS_Challenge.csv\")"
   ]
  },
  {
   "cell_type": "code",
   "execution_count": 3,
   "metadata": {},
   "outputs": [
    {
     "data": {
      "text/html": [
       "<div>\n",
       "<style scoped>\n",
       "    .dataframe tbody tr th:only-of-type {\n",
       "        vertical-align: middle;\n",
       "    }\n",
       "\n",
       "    .dataframe tbody tr th {\n",
       "        vertical-align: top;\n",
       "    }\n",
       "\n",
       "    .dataframe thead th {\n",
       "        text-align: right;\n",
       "    }\n",
       "</style>\n",
       "<table border=\"1\" class=\"dataframe\">\n",
       "  <thead>\n",
       "    <tr style=\"text-align: right;\">\n",
       "      <th></th>\n",
       "      <th>time_created</th>\n",
       "      <th>date_created</th>\n",
       "      <th>up_votes</th>\n",
       "      <th>down_votes</th>\n",
       "      <th>title</th>\n",
       "      <th>over_18</th>\n",
       "      <th>author</th>\n",
       "      <th>category</th>\n",
       "    </tr>\n",
       "  </thead>\n",
       "  <tbody>\n",
       "    <tr>\n",
       "      <th>0</th>\n",
       "      <td>1201232046</td>\n",
       "      <td>2008-01-25</td>\n",
       "      <td>3</td>\n",
       "      <td>0</td>\n",
       "      <td>Scores killed in Pakistan clashes</td>\n",
       "      <td>False</td>\n",
       "      <td>polar</td>\n",
       "      <td>worldnews</td>\n",
       "    </tr>\n",
       "    <tr>\n",
       "      <th>1</th>\n",
       "      <td>1201232075</td>\n",
       "      <td>2008-01-25</td>\n",
       "      <td>2</td>\n",
       "      <td>0</td>\n",
       "      <td>Japan resumes refuelling mission</td>\n",
       "      <td>False</td>\n",
       "      <td>polar</td>\n",
       "      <td>worldnews</td>\n",
       "    </tr>\n",
       "    <tr>\n",
       "      <th>2</th>\n",
       "      <td>1201232523</td>\n",
       "      <td>2008-01-25</td>\n",
       "      <td>3</td>\n",
       "      <td>0</td>\n",
       "      <td>US presses Egypt on Gaza border</td>\n",
       "      <td>False</td>\n",
       "      <td>polar</td>\n",
       "      <td>worldnews</td>\n",
       "    </tr>\n",
       "    <tr>\n",
       "      <th>3</th>\n",
       "      <td>1201233290</td>\n",
       "      <td>2008-01-25</td>\n",
       "      <td>1</td>\n",
       "      <td>0</td>\n",
       "      <td>Jump-start economy: Give health care to all</td>\n",
       "      <td>False</td>\n",
       "      <td>fadi420</td>\n",
       "      <td>worldnews</td>\n",
       "    </tr>\n",
       "    <tr>\n",
       "      <th>4</th>\n",
       "      <td>1201274720</td>\n",
       "      <td>2008-01-25</td>\n",
       "      <td>4</td>\n",
       "      <td>0</td>\n",
       "      <td>Council of Europe bashes EU&amp;UN terror blacklist</td>\n",
       "      <td>False</td>\n",
       "      <td>mhermans</td>\n",
       "      <td>worldnews</td>\n",
       "    </tr>\n",
       "  </tbody>\n",
       "</table>\n",
       "</div>"
      ],
      "text/plain": [
       "   time_created date_created  up_votes  down_votes  \\\n",
       "0    1201232046   2008-01-25         3           0   \n",
       "1    1201232075   2008-01-25         2           0   \n",
       "2    1201232523   2008-01-25         3           0   \n",
       "3    1201233290   2008-01-25         1           0   \n",
       "4    1201274720   2008-01-25         4           0   \n",
       "\n",
       "                                             title  over_18    author  \\\n",
       "0                Scores killed in Pakistan clashes    False     polar   \n",
       "1                 Japan resumes refuelling mission    False     polar   \n",
       "2                  US presses Egypt on Gaza border    False     polar   \n",
       "3     Jump-start economy: Give health care to all     False   fadi420   \n",
       "4  Council of Europe bashes EU&UN terror blacklist    False  mhermans   \n",
       "\n",
       "    category  \n",
       "0  worldnews  \n",
       "1  worldnews  \n",
       "2  worldnews  \n",
       "3  worldnews  \n",
       "4  worldnews  "
      ]
     },
     "execution_count": 3,
     "metadata": {},
     "output_type": "execute_result"
    }
   ],
   "source": [
    "df.head()"
   ]
  },
  {
   "cell_type": "markdown",
   "metadata": {},
   "source": [
    "# Approach"
   ]
  },
  {
   "cell_type": "markdown",
   "metadata": {},
   "source": [
    "A lot can be derived from author of the posts as well to determine whether the audience are inclined to certain authors who tend to up vote their posts regularly. There are various features to pick. But \"time_created\" isn't going to make a great feature to analyze because there are different time zones across the globe and the time at which the article was posted might be in a different time zone compared to the target audience. For e.g., If there's any trending Soccer news in India and the author might have posted about it. But the time the author posted might be midnight in Europian countries and cannot see any up votes and there might be a relatively lower reach and hence lower up votes. Same goes with the date_created feature as well. \n",
    "\n",
    "As down_votes and category are all the same value, they are no use as well.\n",
    "\n",
    "\"over_18\" feature is inconsiderable as well because most of the values are only of one value \"False\". So, if we add this feature to our model, the model becomes skewed.\n",
    "\n",
    "\"title\" and \"author\" are the only features to deal with which can explain the up_votes. Let us explore the relationship between the title, author and up_votes."
   ]
  },
  {
   "cell_type": "markdown",
   "metadata": {},
   "source": [
    "# Analysis on author and up_votes relationship"
   ]
  },
  {
   "cell_type": "markdown",
   "metadata": {},
   "source": [
    "As most of the authors posted only a very few articles. We pull the top authors with most number of posts and check their relation with the trend of up votes if there is any"
   ]
  },
  {
   "cell_type": "code",
   "execution_count": 4,
   "metadata": {},
   "outputs": [
    {
     "name": "stdout",
     "output_type": "stream",
     "text": [
      "number of different authors 85838\n"
     ]
    }
   ],
   "source": [
    "# Getting the number of different authors\n",
    "dc={}\n",
    "dc_up_votes_count={}\n",
    "dc_up_votes_mean={}\n",
    "dc_no_of_posts={}\n",
    "for i in range(len(df)):\n",
    "    if dc.get(df[\"author\"][i]) is None:\n",
    "        dc[str(df[\"author\"][i])]=0\n",
    "print(\"number of different authors\", len(dc))\n",
    "\n",
    "dc_up_votes_count=dc.copy()\n",
    "dc_up_votes_mean=dc.copy()\n",
    "dc_no_of_posts=dc.copy()"
   ]
  },
  {
   "cell_type": "code",
   "execution_count": 5,
   "metadata": {},
   "outputs": [],
   "source": [
    "# Getting the top authors whose up_vote count per post is high and exploring them \n",
    "for i in range(len(df)):\n",
    "    if dc_no_of_posts.get(str(df[\"author\"][i])) is not None:\n",
    "        dc_up_votes_count[str(df[\"author\"][i])]=dc_up_votes_count[str(df[\"author\"][i])]+df[\"up_votes\"][i]\n",
    "        dc_no_of_posts[str(df[\"author\"][i])]=dc_no_of_posts[str(df[\"author\"][i])]+1\n",
    "        \n",
    "for i in (dc):\n",
    "    dc_up_votes_mean[i]=dc_up_votes_count[i]/dc_no_of_posts[i]"
   ]
  },
  {
   "cell_type": "code",
   "execution_count": 6,
   "metadata": {},
   "outputs": [
    {
     "data": {
      "text/plain": [
       "[('madazzahatter', 2503),\n",
       " ('nimobo', 2564),\n",
       " ('madam1', 2658),\n",
       " ('twolf1', 2923),\n",
       " ('readerseven', 3170),\n",
       " ('igeldard', 4013),\n",
       " ('maxwellhill', 4023),\n",
       " ('DoremusJessup', 5037),\n",
       " ('anutensil', 5730),\n",
       " ('davidreiss666', 8897)]"
      ]
     },
     "execution_count": 6,
     "metadata": {},
     "output_type": "execute_result"
    }
   ],
   "source": [
    "# sorting to the get the top 10 authors with most number of posts \n",
    "dict(sorted(dc_no_of_posts.items(), key=lambda item: item[1]))\n",
    "els = list(dc_no_of_posts.items())\n",
    "els.sort(key = lambda x: x[1]) \n",
    "els=els[-10:]\n",
    "els"
   ]
  },
  {
   "cell_type": "code",
   "execution_count": 7,
   "metadata": {},
   "outputs": [
    {
     "data": {
      "image/png": "[encoded data removed]",
      "text/plain": [
       "<Figure size 432x288 with 1 Axes>"
      ]
     },
     "metadata": {
      "needs_background": "light"
     },
     "output_type": "display_data"
    },
    {
     "data": {
      "image/png": "[encoded data removed]",
      "text/plain": [
       "<Figure size 432x288 with 1 Axes>"
      ]
     },
     "metadata": {
      "needs_background": "light"
     },
     "output_type": "display_data"
    },
    {
     "data": {
      "image/png": "[encoded data removed]",
      "text/plain": [
       "<Figure size 432x288 with 1 Axes>"
      ]
     },
     "metadata": {
      "needs_background": "light"
     },
     "output_type": "display_data"
    }
   ],
   "source": [
    "#plotting\n",
    "\n",
    "x=[]\n",
    "y_upvotes=[]\n",
    "y_upvotes_per_post=[]\n",
    "y_no_of_posts=[]\n",
    "for i in range(len(els)):\n",
    "    x.append(els[i][0])\n",
    "    y_upvotes.append(dc_up_votes_count[str(els[i][0])])\n",
    "    y_upvotes_per_post.append(dc_up_votes_mean[str(els[i][0])])\n",
    "    y_no_of_posts.append(dc_no_of_posts[str(els[i][0])])\n",
    "    \n",
    "plt.bar(x,y_no_of_posts)\n",
    "plt.title(\"no of posts trend a/c max no of posts of author\")\n",
    "plt.xticks(rotation=45)\n",
    "plt.show()\n",
    "\n",
    "plt.bar(x,y_upvotes)\n",
    "plt.title(\"no. of upvotes count\")\n",
    "plt.xticks(rotation=45)\n",
    "plt.show()\n",
    "\n",
    "plt.bar(x,y_upvotes_per_post)\n",
    "plt.title(\"mean trend\")\n",
    "plt.xticks(rotation=45)\n",
    "plt.show()"
   ]
  },
  {
   "cell_type": "markdown",
   "metadata": {},
   "source": [
    "The above plots shows us that the audience are not inclined towards the authors. If they are inclined to the authors then the author who posted higher number of posts would have had higher number of upvotes and higher mean as well. Remember that we are discussing only the top performing authors and hence any recommendation algorithm (which shows the author's news on top of the audience timeline) of any app would work the same for all the top 10 authors we've picked. Hence, making our discussion unbiased and works well irrespective of the environment the data is pulled from. \n",
    "\n",
    "From this we can partially conclude that audience prefer to up vote the article irrespective of the author posted. Then we are left to answer only one question which is \"Why are these author's titles getting more up votes compared to others?\". It can be of only one reason that these authors are posting the most trending news and the topics which are liked by the audience. This can be evaluated by pulling the top words from all the titles and compare them with the top words from all the titles of the top 10 authors. "
   ]
  },
  {
   "cell_type": "markdown",
   "metadata": {},
   "source": [
    "# Exploring top words"
   ]
  },
  {
   "cell_type": "code",
   "execution_count": 8,
   "metadata": {},
   "outputs": [],
   "source": [
    "from sklearn.feature_extraction.text import CountVectorizer"
   ]
  },
  {
   "cell_type": "code",
   "execution_count": 14,
   "metadata": {},
   "outputs": [
    {
     "data": {
      "text/html": [
       "<div>\n",
       "<style scoped>\n",
       "    .dataframe tbody tr th:only-of-type {\n",
       "        vertical-align: middle;\n",
       "    }\n",
       "\n",
       "    .dataframe tbody tr th {\n",
       "        vertical-align: top;\n",
       "    }\n",
       "\n",
       "    .dataframe thead th {\n",
       "        text-align: right;\n",
       "    }\n",
       "</style>\n",
       "<table border=\"1\" class=\"dataframe\">\n",
       "  <thead>\n",
       "    <tr style=\"text-align: right;\">\n",
       "      <th></th>\n",
       "      <th>time_created</th>\n",
       "      <th>date_created</th>\n",
       "      <th>up_votes</th>\n",
       "      <th>down_votes</th>\n",
       "      <th>title</th>\n",
       "      <th>over_18</th>\n",
       "      <th>author</th>\n",
       "      <th>category</th>\n",
       "    </tr>\n",
       "  </thead>\n",
       "  <tbody>\n",
       "    <tr>\n",
       "      <th>289</th>\n",
       "      <td>1203448166</td>\n",
       "      <td>2008-02-19</td>\n",
       "      <td>6</td>\n",
       "      <td>0</td>\n",
       "      <td>Philip s a Nazi, Camilla s a crocodile and Dia...</td>\n",
       "      <td>False</td>\n",
       "      <td>igeldard</td>\n",
       "      <td>worldnews</td>\n",
       "    </tr>\n",
       "    <tr>\n",
       "      <th>290</th>\n",
       "      <td>1203448264</td>\n",
       "      <td>2008-02-19</td>\n",
       "      <td>2</td>\n",
       "      <td>0</td>\n",
       "      <td>How you pay the heating and phone bills for na...</td>\n",
       "      <td>False</td>\n",
       "      <td>igeldard</td>\n",
       "      <td>worldnews</td>\n",
       "    </tr>\n",
       "    <tr>\n",
       "      <th>291</th>\n",
       "      <td>1203448465</td>\n",
       "      <td>2008-02-19</td>\n",
       "      <td>2</td>\n",
       "      <td>0</td>\n",
       "      <td>£75bn black hole due to increased life expecta...</td>\n",
       "      <td>False</td>\n",
       "      <td>igeldard</td>\n",
       "      <td>worldnews</td>\n",
       "    </tr>\n",
       "    <tr>\n",
       "      <th>303</th>\n",
       "      <td>1203445500</td>\n",
       "      <td>2008-02-19</td>\n",
       "      <td>5</td>\n",
       "      <td>0</td>\n",
       "      <td>Behind the Baghdad Bird Market Bombings: Using...</td>\n",
       "      <td>False</td>\n",
       "      <td>igeldard</td>\n",
       "      <td>worldnews</td>\n",
       "    </tr>\n",
       "    <tr>\n",
       "      <th>304</th>\n",
       "      <td>1203445800</td>\n",
       "      <td>2008-02-19</td>\n",
       "      <td>2</td>\n",
       "      <td>0</td>\n",
       "      <td>Exhibition Seeks Rightful Owners for Nazi Loot</td>\n",
       "      <td>False</td>\n",
       "      <td>igeldard</td>\n",
       "      <td>worldnews</td>\n",
       "    </tr>\n",
       "    <tr>\n",
       "      <th>...</th>\n",
       "      <td>...</td>\n",
       "      <td>...</td>\n",
       "      <td>...</td>\n",
       "      <td>...</td>\n",
       "      <td>...</td>\n",
       "      <td>...</td>\n",
       "      <td>...</td>\n",
       "      <td>...</td>\n",
       "    </tr>\n",
       "    <tr>\n",
       "      <th>509065</th>\n",
       "      <td>1479761104</td>\n",
       "      <td>2016-11-21</td>\n",
       "      <td>2</td>\n",
       "      <td>0</td>\n",
       "      <td>Canada’s spies have a new risk — Pokemon</td>\n",
       "      <td>False</td>\n",
       "      <td>nimobo</td>\n",
       "      <td>worldnews</td>\n",
       "    </tr>\n",
       "    <tr>\n",
       "      <th>509094</th>\n",
       "      <td>1479777217</td>\n",
       "      <td>2016-11-22</td>\n",
       "      <td>3360</td>\n",
       "      <td>0</td>\n",
       "      <td>It s time to decriminalize drugs, commission r...</td>\n",
       "      <td>False</td>\n",
       "      <td>maxwellhill</td>\n",
       "      <td>worldnews</td>\n",
       "    </tr>\n",
       "    <tr>\n",
       "      <th>509203</th>\n",
       "      <td>1479812809</td>\n",
       "      <td>2016-11-22</td>\n",
       "      <td>3</td>\n",
       "      <td>0</td>\n",
       "      <td>U.S. forces backing Iraqi troops retaking Mosu...</td>\n",
       "      <td>False</td>\n",
       "      <td>madam1</td>\n",
       "      <td>worldnews</td>\n",
       "    </tr>\n",
       "    <tr>\n",
       "      <th>509209</th>\n",
       "      <td>1479813159</td>\n",
       "      <td>2016-11-22</td>\n",
       "      <td>3</td>\n",
       "      <td>0</td>\n",
       "      <td>The Arctic is experiencing extraordinarily hot...</td>\n",
       "      <td>False</td>\n",
       "      <td>madam1</td>\n",
       "      <td>worldnews</td>\n",
       "    </tr>\n",
       "    <tr>\n",
       "      <th>509211</th>\n",
       "      <td>1479813363</td>\n",
       "      <td>2016-11-22</td>\n",
       "      <td>3</td>\n",
       "      <td>0</td>\n",
       "      <td>Turkey’s government is to withdraw a bill that...</td>\n",
       "      <td>False</td>\n",
       "      <td>madam1</td>\n",
       "      <td>worldnews</td>\n",
       "    </tr>\n",
       "  </tbody>\n",
       "</table>\n",
       "<p>41518 rows × 8 columns</p>\n",
       "</div>"
      ],
      "text/plain": [
       "        time_created date_created  up_votes  down_votes  \\\n",
       "289       1203448166   2008-02-19         6           0   \n",
       "290       1203448264   2008-02-19         2           0   \n",
       "291       1203448465   2008-02-19         2           0   \n",
       "303       1203445500   2008-02-19         5           0   \n",
       "304       1203445800   2008-02-19         2           0   \n",
       "...              ...          ...       ...         ...   \n",
       "509065    1479761104   2016-11-21         2           0   \n",
       "509094    1479777217   2016-11-22      3360           0   \n",
       "509203    1479812809   2016-11-22         3           0   \n",
       "509209    1479813159   2016-11-22         3           0   \n",
       "509211    1479813363   2016-11-22         3           0   \n",
       "\n",
       "                                                    title  over_18  \\\n",
       "289     Philip s a Nazi, Camilla s a crocodile and Dia...    False   \n",
       "290     How you pay the heating and phone bills for na...    False   \n",
       "291     £75bn black hole due to increased life expecta...    False   \n",
       "303     Behind the Baghdad Bird Market Bombings: Using...    False   \n",
       "304        Exhibition Seeks Rightful Owners for Nazi Loot    False   \n",
       "...                                                   ...      ...   \n",
       "509065           Canada’s spies have a new risk — Pokemon    False   \n",
       "509094  It s time to decriminalize drugs, commission r...    False   \n",
       "509203  U.S. forces backing Iraqi troops retaking Mosu...    False   \n",
       "509209  The Arctic is experiencing extraordinarily hot...    False   \n",
       "509211  Turkey’s government is to withdraw a bill that...    False   \n",
       "\n",
       "             author   category  \n",
       "289        igeldard  worldnews  \n",
       "290        igeldard  worldnews  \n",
       "291        igeldard  worldnews  \n",
       "303        igeldard  worldnews  \n",
       "304        igeldard  worldnews  \n",
       "...             ...        ...  \n",
       "509065       nimobo  worldnews  \n",
       "509094  maxwellhill  worldnews  \n",
       "509203       madam1  worldnews  \n",
       "509209       madam1  worldnews  \n",
       "509211       madam1  worldnews  \n",
       "\n",
       "[41518 rows x 8 columns]"
      ]
     },
     "execution_count": 14,
     "metadata": {},
     "output_type": "execute_result"
    }
   ],
   "source": [
    "#creating a dataframe of top authors\n",
    "dset=set()\n",
    "for i in range(len(els)):\n",
    "    dset.add(els[i][0])\n",
    "dset\n",
    "dfauthor= df[df[\"author\"].isin(dset)]\n",
    "dfauthor"
   ]
  },
  {
   "cell_type": "code",
   "execution_count": 10,
   "metadata": {},
   "outputs": [],
   "source": [
    "# Method for removing stop words and getting the top words\n",
    "def get_top_n_words(corpus, n=None):\n",
    "    vec = CountVectorizer(stop_words = 'english').fit(corpus)\n",
    "    bag_of_words = vec.transform(corpus)\n",
    "    sum_words = bag_of_words.sum(axis=0) \n",
    "    words_freq = [(word, sum_words[0, idx]) for word, idx in vec.vocabulary_.items()]\n",
    "    words_freq =sorted(words_freq, key = lambda x: x[1], reverse=True)\n",
    "    return words_freq[:n]\n",
    "\n",
    "def print_common(strr,words):\n",
    "    print(strr)\n",
    "    for word, freq in words:\n",
    "        print(word, freq)"
   ]
  },
  {
   "cell_type": "code",
   "execution_count": 11,
   "metadata": {},
   "outputs": [
    {
     "name": "stdout",
     "output_type": "stream",
     "text": [
      "common words from all authors and titles\n",
      "\n",
      "china 26397\n",
      "says 25432\n",
      "new 23388\n",
      "syria 19023\n",
      "russia 18766\n",
      "world 18091\n",
      "police 16654\n",
      "government 16305\n",
      "israel 16048\n",
      "iran 15816\n",
      "president 15271\n",
      "killed 14328\n",
      "people 13991\n",
      "state 13489\n",
      "attack 12925\n",
      "war 12820\n",
      "russian 12378\n",
      "military 11828\n",
      "uk 11784\n",
      "north 11589\n"
     ]
    }
   ],
   "source": [
    "common_words = get_top_n_words(df['title'], 20)\n",
    "print_common(\"common words from all authors and titles\\n\",common_words)"
   ]
  },
  {
   "cell_type": "code",
   "execution_count": 12,
   "metadata": {},
   "outputs": [
    {
     "name": "stdout",
     "output_type": "stream",
     "text": [
      "common words from top authors\n",
      "new 3063\n",
      "said 2786\n",
      "government 2735\n",
      "says 2719\n",
      "china 2564\n",
      "president 2489\n",
      "police 2205\n",
      "people 2205\n",
      "country 2125\n",
      "world 2052\n",
      "minister 1902\n",
      "killed 1711\n",
      "state 1697\n",
      "year 1505\n",
      "military 1410\n",
      "court 1409\n",
      "japan 1400\n",
      "syria 1397\n",
      "russia 1380\n",
      "000 1346\n"
     ]
    }
   ],
   "source": [
    "common_words_top_authors = get_top_n_words(dfauthor['title'], 20)\n",
    "print_common(\"common words from top authors\", common_words_top_authors)"
   ]
  },
  {
   "cell_type": "code",
   "execution_count": 13,
   "metadata": {},
   "outputs": [
    {
     "name": "stdout",
     "output_type": "stream",
     "text": [
      "Intersection of common words of all titles and common words of titles of top authors\n",
      "\n",
      "new\n",
      "government\n",
      "says\n",
      "china\n",
      "president\n",
      "police\n",
      "people\n",
      "world\n",
      "killed\n",
      "state\n",
      "military\n",
      "syria\n",
      "russia\n",
      "\n",
      "13 words in common out of top 20 words\n"
     ]
    }
   ],
   "source": [
    "d_common_words=set()\n",
    "for word, freq in common_words:\n",
    "    if word not in d_common_words:\n",
    "        d_common_words.add(word)\n",
    "wordds=[]\n",
    "i=0\n",
    "print(\"Intersection of common words of all titles and common words of titles of top authors\\n\")\n",
    "for word, freq in common_words_top_authors:\n",
    "    if word in d_common_words:\n",
    "        i=i+1\n",
    "        wordds.append(word)\n",
    "        print(word)\n",
    "print(\"\\n\"+str(i)+\" words in common out of top 20 words\")"
   ]
  },
  {
   "cell_type": "markdown",
   "metadata": {},
   "source": [
    "As we can see that from all the 85,000 authors who've posted around 500,000 articles, the top 10 authors constitute to only 45,000 posts which is less than 10 percent of the total articles. Yet, they constitute the 13 common words from the top 20 common words of all the articles. Hence we may conclude that these authors cover the most important topics or the topics in which their audience or more interested in.\n",
    "\n",
    "We may as well conclude that the audience are not inclined towards the authors (people tend to up vote whatever their favorite person posts but not in this case) but are inclined towards the topics of the titles. They are skimming the title and are only up voting the relevant content. This can be derived from the fact that the top words of the top authors are also the top words of all the articles posted and these authors are on top not because of the audience are inclined to them but because they post the most relevant content. \n",
    "\n"
   ]
  },
  {
   "cell_type": "markdown",
   "metadata": {},
   "source": [
    "We are only left with one feature which is \"title\" to train our model to predict how does a given title is going to perform (regarding the number of up votes). Please review the \"ML Model.ipynb\" and \"Deep_learning.ipynb\" files to check out my training and models."
   ]
  }
 ],
 "metadata": {
  "kernelspec": {
   "display_name": "Python 3",
   "language": "python",
   "name": "python3"
  },
  "language_info": {
   "codemirror_mode": {
    "name": "ipython",
    "version": 3
   },
   "file_extension": ".py",
   "mimetype": "text/x-python",
   "name": "python",
   "nbconvert_exporter": "python",
   "pygments_lexer": "ipython3",
   "version": "3.7.6"
  }
 },
 "nbformat": 4,
 "nbformat_minor": 4
}
